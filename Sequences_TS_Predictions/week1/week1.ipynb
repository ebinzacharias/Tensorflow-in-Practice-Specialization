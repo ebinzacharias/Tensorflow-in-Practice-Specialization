{
 "cells": [
  {
   "cell_type": "markdown",
   "metadata": {},
   "source": [
    "# Sequences, Time Series and Prediction"
   ]
  },
  {
   "cell_type": "markdown",
   "metadata": {},
   "source": [
    "1. Prediction or Forecasting\n",
    "2. Imputation\n",
    "\n",
    "The project backwards into the past.\n",
    "\n",
    "3. Detection of anomalies"
   ]
  },
  {
   "cell_type": "markdown",
   "metadata": {},
   "source": [
    "## Common patterns in time series"
   ]
  },
  {
   "cell_type": "markdown",
   "metadata": {},
   "source": [
    "1. Trend\n",
    "\n",
    "Time series have a specific direction that they're moving in."
   ]
  },
  {
   "cell_type": "markdown",
   "metadata": {},
   "source": [
    "![](trend.png)"
   ]
  },
  {
   "cell_type": "markdown",
   "metadata": {},
   "source": [
    "2. Seasonality\n",
    "\n",
    "patterns repeat at predictable intervals."
   ]
  },
  {
   "cell_type": "markdown",
   "metadata": {},
   "source": [
    "![](seasonality.png)"
   ]
  },
  {
   "cell_type": "markdown",
   "metadata": {},
   "source": [
    "3. Combintation of trends and seasonality"
   ]
  },
  {
   "cell_type": "markdown",
   "metadata": {},
   "source": [
    "4. White noise\n",
    "\n",
    "Which cant be predicted  with random avlues.\n",
    "\n",
    "![](whitenoise.png)"
   ]
  },
  {
   "cell_type": "markdown",
   "metadata": {},
   "source": [
    "5. Autocorrelated time series"
   ]
  },
  {
   "cell_type": "markdown",
   "metadata": {},
   "source": [
    "![](auto.png)"
   ]
  },
  {
   "cell_type": "markdown",
   "metadata": {},
   "source": [
    "## Train, validation and test sets"
   ]
  },
  {
   "cell_type": "markdown",
   "metadata": {},
   "source": [
    "## Metrics\n",
    "\n",
    "\n",
    "#### errors = forecasts - actual\n",
    "\n",
    "#### Mean squared error\n",
    "\n",
    "If large errors are potentially dangerous and they cost you much more than smaller errors, then you may prefer the mse.\n",
    "\n",
    "mse = np.square(errors).mean()\n",
    "\n",
    "#### Root mean squared error\n",
    "rmse = np.sqrt(mse)\n",
    "\n",
    "#### Mean absolute error\n",
    "\n",
    "if your gain or your loss is just proportional to the size of the error, then the mae may be better.\n",
    "\n",
    "mae = np.abs(errors).mean()\n",
    "\n",
    "#### Mean absolute percentage error\n",
    "\n",
    "mean ratio between the absolute error and the absolute value, this gives an idea of the size of the errors compared to the values.\n",
    "\n",
    "mape = np.abs(errors/x_valid).mean()"
   ]
  },
  {
   "cell_type": "code",
   "execution_count": null,
   "metadata": {},
   "outputs": [],
   "source": []
  }
 ],
 "metadata": {
  "kernelspec": {
   "display_name": "Python 3",
   "language": "python",
   "name": "python3"
  },
  "language_info": {
   "codemirror_mode": {
    "name": "ipython",
    "version": 3
   },
   "file_extension": ".py",
   "mimetype": "text/x-python",
   "name": "python",
   "nbconvert_exporter": "python",
   "pygments_lexer": "ipython3",
   "version": "3.5.2"
  }
 },
 "nbformat": 4,
 "nbformat_minor": 2
}
