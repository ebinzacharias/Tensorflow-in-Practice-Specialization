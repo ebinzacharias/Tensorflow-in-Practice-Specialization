{
 "cells": [
  {
   "cell_type": "markdown",
   "metadata": {},
   "source": [
    "# Intorduction to Computer Vision\n",
    "\n",
    "### Fashion MNIST Dataset"
   ]
  },
  {
   "cell_type": "code",
   "execution_count": 1,
   "metadata": {},
   "outputs": [
    {
     "name": "stderr",
     "output_type": "stream",
     "text": [
      "/usr/local/lib/python3.5/dist-packages/tensorflow/python/framework/dtypes.py:526: FutureWarning: Passing (type, 1) or '1type' as a synonym of type is deprecated; in a future version of numpy, it will be understood as (type, (1,)) / '(1,)type'.\n",
      "  _np_qint8 = np.dtype([(\"qint8\", np.int8, 1)])\n",
      "/usr/local/lib/python3.5/dist-packages/tensorflow/python/framework/dtypes.py:527: FutureWarning: Passing (type, 1) or '1type' as a synonym of type is deprecated; in a future version of numpy, it will be understood as (type, (1,)) / '(1,)type'.\n",
      "  _np_quint8 = np.dtype([(\"quint8\", np.uint8, 1)])\n",
      "/usr/local/lib/python3.5/dist-packages/tensorflow/python/framework/dtypes.py:528: FutureWarning: Passing (type, 1) or '1type' as a synonym of type is deprecated; in a future version of numpy, it will be understood as (type, (1,)) / '(1,)type'.\n",
      "  _np_qint16 = np.dtype([(\"qint16\", np.int16, 1)])\n",
      "/usr/local/lib/python3.5/dist-packages/tensorflow/python/framework/dtypes.py:529: FutureWarning: Passing (type, 1) or '1type' as a synonym of type is deprecated; in a future version of numpy, it will be understood as (type, (1,)) / '(1,)type'.\n",
      "  _np_quint16 = np.dtype([(\"quint16\", np.uint16, 1)])\n",
      "/usr/local/lib/python3.5/dist-packages/tensorflow/python/framework/dtypes.py:530: FutureWarning: Passing (type, 1) or '1type' as a synonym of type is deprecated; in a future version of numpy, it will be understood as (type, (1,)) / '(1,)type'.\n",
      "  _np_qint32 = np.dtype([(\"qint32\", np.int32, 1)])\n",
      "/usr/local/lib/python3.5/dist-packages/tensorflow/python/framework/dtypes.py:535: FutureWarning: Passing (type, 1) or '1type' as a synonym of type is deprecated; in a future version of numpy, it will be understood as (type, (1,)) / '(1,)type'.\n",
      "  np_resource = np.dtype([(\"resource\", np.ubyte, 1)])\n"
     ]
    }
   ],
   "source": [
    "import tensorflow as tf\n",
    "import numpy as np\n",
    "from tensorflow import keras\n",
    "\n",
    "import matplotlib.pyplot as plt"
   ]
  },
  {
   "cell_type": "markdown",
   "metadata": {},
   "source": [
    "### Load DATA"
   ]
  },
  {
   "cell_type": "code",
   "execution_count": 13,
   "metadata": {},
   "outputs": [],
   "source": [
    "data = keras.datasets.fashion_mnist\n",
    "(train_images, train_label), (test_images, test_label) = data.load_data()"
   ]
  },
  {
   "cell_type": "markdown",
   "metadata": {},
   "source": [
    "### Neural Network\n",
    "\n",
    "3 Layers\n",
    "\n",
    "Important layers are the first and the last layer.\n",
    "Last layer has 10 neurons, becuase of the 10 classes. This should always match. (output layer)\n",
    "\n",
    "Input layer, flatten layer with the input shape, here 28 X 28\n",
    "Flatten takes this 28 by 28 square and turns it into a simple linear array.\n",
    "\n",
    "Middle layer, hidden layer\n",
    "128 neurons (consider as variables in a function)\n",
    "this takes all of these that turns the 784 values of an ankle boot into the value nine (label), and similar for all of the other 70,000."
   ]
  },
  {
   "cell_type": "code",
   "execution_count": 14,
   "metadata": {
    "scrolled": true
   },
   "outputs": [
    {
     "name": "stdout",
     "output_type": "stream",
     "text": [
      "WARNING:tensorflow:From /usr/local/lib/python3.5/dist-packages/tensorflow/python/ops/resource_variable_ops.py:435: colocate_with (from tensorflow.python.framework.ops) is deprecated and will be removed in a future version.\n",
      "Instructions for updating:\n",
      "Colocations handled automatically by placer.\n"
     ]
    }
   ],
   "source": [
    "model = keras.Sequential([\n",
    "    keras.layers.Flatten(input_shape=(28,28)),\n",
    "    keras.layers.Dense(128, activation=tf.nn.relu),\n",
    "    keras.layers.Dense(10,activation=tf.nn.softmax)\n",
    "])"
   ]
  },
  {
   "cell_type": "markdown",
   "metadata": {},
   "source": [
    "### DATA Visualization"
   ]
  },
  {
   "cell_type": "code",
   "execution_count": 53,
   "metadata": {},
   "outputs": [
    {
     "name": "stdout",
     "output_type": "stream",
     "text": [
      "9\n"
     ]
    },
    {
     "data": {
      "image/png": "[encoded data removed]",
      "text/plain": [
       "<Figure size 432x288 with 1 Axes>"
      ]
     },
     "metadata": {
      "needs_background": "light"
     },
     "output_type": "display_data"
    }
   ],
   "source": [
    "plt.imshow(train_images[0])\n",
    "print(train_label[0])\n",
    "#print(train_images[0])"
   ]
  },
  {
   "cell_type": "code",
   "execution_count": 31,
   "metadata": {},
   "outputs": [],
   "source": [
    "# NN works better with normalised data\n",
    "\n",
    "train_images = train_images/255.0\n",
    "test_images = test_images/255.0"
   ]
  },
  {
   "cell_type": "code",
   "execution_count": 32,
   "metadata": {},
   "outputs": [
    {
     "data": {
      "text/plain": [
       "<matplotlib.image.AxesImage at 0x7f9f858905c0>"
      ]
     },
     "execution_count": 32,
     "metadata": {},
     "output_type": "execute_result"
    },
    {
     "data": {
      "image/png": "[encoded data removed]",
      "text/plain": [
       "<Figure size 432x288 with 1 Axes>"
      ]
     },
     "metadata": {
      "needs_background": "light"
     },
     "output_type": "display_data"
    }
   ],
   "source": [
    "plt.imshow(train_images[42])"
   ]
  },
  {
   "cell_type": "markdown",
   "metadata": {},
   "source": [
    "### Training the network"
   ]
  },
  {
   "cell_type": "code",
   "execution_count": 55,
   "metadata": {},
   "outputs": [
    {
     "name": "stdout",
     "output_type": "stream",
     "text": [
      "Epoch 1/50\n",
      "60000/60000 [==============================] - 3s 50us/sample - loss: 0.7447 - acc: 0.7590\n",
      "Epoch 2/50\n",
      "60000/60000 [==============================] - 3s 49us/sample - loss: 0.7413 - acc: 0.7602\n",
      "Epoch 3/50\n",
      "60000/60000 [==============================] - 3s 51us/sample - loss: 0.7380 - acc: 0.7616\n",
      "Epoch 4/50\n",
      "60000/60000 [==============================] - 3s 51us/sample - loss: 0.7347 - acc: 0.7628\n",
      "Epoch 5/50\n",
      "60000/60000 [==============================] - 3s 50us/sample - loss: 0.7316 - acc: 0.7635\n",
      "Epoch 6/50\n",
      "60000/60000 [==============================] - 3s 54us/sample - loss: 0.7285 - acc: 0.7646\n",
      "Epoch 7/50\n",
      "60000/60000 [==============================] - 3s 49us/sample - loss: 0.7255 - acc: 0.7652\n",
      "Epoch 8/50\n",
      "60000/60000 [==============================] - 3s 47us/sample - loss: 0.7226 - acc: 0.7663\n",
      "Epoch 9/50\n",
      "60000/60000 [==============================] - 3s 51us/sample - loss: 0.7197 - acc: 0.7668\n",
      "Epoch 10/50\n",
      "60000/60000 [==============================] - 3s 49us/sample - loss: 0.7169 - acc: 0.7678\n",
      "Epoch 11/50\n",
      "60000/60000 [==============================] - 3s 50us/sample - loss: 0.7142 - acc: 0.7689\n",
      "Epoch 12/50\n",
      "60000/60000 [==============================] - 3s 46us/sample - loss: 0.7115 - acc: 0.7696\n",
      "Epoch 13/50\n",
      "60000/60000 [==============================] - 3s 46us/sample - loss: 0.7089 - acc: 0.7704\n",
      "Epoch 14/50\n",
      "60000/60000 [==============================] - 3s 45us/sample - loss: 0.7064 - acc: 0.7713\n",
      "Epoch 15/50\n",
      "60000/60000 [==============================] - 3s 50us/sample - loss: 0.7039 - acc: 0.7719\n",
      "Epoch 16/50\n",
      "60000/60000 [==============================] - 3s 48us/sample - loss: 0.7014 - acc: 0.7728\n",
      "Epoch 17/50\n",
      "60000/60000 [==============================] - 3s 48us/sample - loss: 0.6990 - acc: 0.7734\n",
      "Epoch 18/50\n",
      "60000/60000 [==============================] - 3s 53us/sample - loss: 0.6967 - acc: 0.7744\n",
      "Epoch 19/50\n",
      "60000/60000 [==============================] - 3s 50us/sample - loss: 0.6944 - acc: 0.7751\n",
      "Epoch 20/50\n",
      "60000/60000 [==============================] - 3s 48us/sample - loss: 0.6921 - acc: 0.7760\n",
      "Epoch 21/50\n",
      "60000/60000 [==============================] - 3s 48us/sample - loss: 0.6899 - acc: 0.7768\n",
      "Epoch 22/50\n",
      "60000/60000 [==============================] - 3s 51us/sample - loss: 0.6877 - acc: 0.7772\n",
      "Epoch 23/50\n",
      "60000/60000 [==============================] - 3s 47us/sample - loss: 0.6855 - acc: 0.7783\n",
      "Epoch 24/50\n",
      "60000/60000 [==============================] - 3s 49us/sample - loss: 0.6835 - acc: 0.7790\n",
      "Epoch 25/50\n",
      "60000/60000 [==============================] - 3s 50us/sample - loss: 0.6814 - acc: 0.7795\n",
      "Epoch 26/50\n",
      "60000/60000 [==============================] - 3s 52us/sample - loss: 0.6794 - acc: 0.7807\n",
      "Epoch 27/50\n",
      "60000/60000 [==============================] - 3s 53us/sample - loss: 0.6774 - acc: 0.7813\n",
      "Epoch 28/50\n",
      "60000/60000 [==============================] - 3s 49us/sample - loss: 0.6754 - acc: 0.7817\n",
      "Epoch 29/50\n",
      "60000/60000 [==============================] - 3s 48us/sample - loss: 0.6735 - acc: 0.7823\n",
      "Epoch 30/50\n",
      "60000/60000 [==============================] - 3s 48us/sample - loss: 0.6716 - acc: 0.7831\n",
      "Epoch 31/50\n",
      "60000/60000 [==============================] - 3s 49us/sample - loss: 0.6697 - acc: 0.7835\n",
      "Epoch 32/50\n",
      "60000/60000 [==============================] - 3s 49us/sample - loss: 0.6678 - acc: 0.7845\n",
      "Epoch 33/50\n",
      "60000/60000 [==============================] - 3s 47us/sample - loss: 0.6660 - acc: 0.7849\n",
      "Epoch 34/50\n",
      "60000/60000 [==============================] - 3s 56us/sample - loss: 0.6642 - acc: 0.7854\n",
      "Epoch 35/50\n",
      "60000/60000 [==============================] - 3s 49us/sample - loss: 0.6625 - acc: 0.7862\n",
      "Epoch 36/50\n",
      "60000/60000 [==============================] - 3s 47us/sample - loss: 0.6607 - acc: 0.7870\n",
      "Epoch 37/50\n",
      "60000/60000 [==============================] - 3s 49us/sample - loss: 0.6590 - acc: 0.7877\n",
      "Epoch 38/50\n",
      "60000/60000 [==============================] - 3s 53us/sample - loss: 0.6574 - acc: 0.7882\n",
      "Epoch 39/50\n",
      "60000/60000 [==============================] - 3s 48us/sample - loss: 0.6557 - acc: 0.7887\n",
      "Epoch 40/50\n",
      "60000/60000 [==============================] - 3s 44us/sample - loss: 0.6541 - acc: 0.7892\n",
      "Epoch 41/50\n",
      "60000/60000 [==============================] - 3s 47us/sample - loss: 0.6524 - acc: 0.7900\n",
      "Epoch 42/50\n",
      "60000/60000 [==============================] - 3s 50us/sample - loss: 0.6509 - acc: 0.7906\n",
      "Epoch 43/50\n",
      "60000/60000 [==============================] - 3s 53us/sample - loss: 0.6493 - acc: 0.7910\n",
      "Epoch 44/50\n",
      "60000/60000 [==============================] - 3s 53us/sample - loss: 0.6478 - acc: 0.7916\n",
      "Epoch 45/50\n",
      "60000/60000 [==============================] - 3s 50us/sample - loss: 0.6462 - acc: 0.7922\n",
      "Epoch 46/50\n",
      "60000/60000 [==============================] - 4s 59us/sample - loss: 0.6447 - acc: 0.7928\n",
      "Epoch 47/50\n",
      "60000/60000 [==============================] - 4s 62us/sample - loss: 0.6432 - acc: 0.7931\n",
      "Epoch 48/50\n",
      "60000/60000 [==============================] - 4s 66us/sample - loss: 0.6418 - acc: 0.7937\n",
      "Epoch 49/50\n",
      "60000/60000 [==============================] - 3s 55us/sample - loss: 0.6403 - acc: 0.7939\n",
      "Epoch 50/50\n",
      "60000/60000 [==============================] - 3s 51us/sample - loss: 0.6389 - acc: 0.7945\n"
     ]
    },
    {
     "data": {
      "text/plain": [
       "<tensorflow.python.keras.callbacks.History at 0x7f9f2337d2e8>"
      ]
     },
     "execution_count": 55,
     "metadata": {},
     "output_type": "execute_result"
    }
   ],
   "source": [
    "model.compile(optimizer=tf.train.AdadeltaOptimizer(),\n",
    "             loss='sparse_categorical_crossentropy',\n",
    "             metrics=['accuracy'])\n",
    "\n",
    "model.fit(train_images, train_label, epochs=50)"
   ]
  },
  {
   "cell_type": "code",
   "execution_count": 56,
   "metadata": {},
   "outputs": [],
   "source": [
    "# Evaluating the model"
   ]
  },
  {
   "cell_type": "code",
   "execution_count": 57,
   "metadata": {},
   "outputs": [
    {
     "name": "stdout",
     "output_type": "stream",
     "text": [
      "10000/10000 [==============================] - 0s 35us/sample - loss: 0.6579 - acc: 0.7817\n"
     ]
    },
    {
     "data": {
      "text/plain": [
       "[0.6578581698894501, 0.7817]"
      ]
     },
     "execution_count": 57,
     "metadata": {},
     "output_type": "execute_result"
    }
   ],
   "source": [
    "model.evaluate(test_images, test_label)"
   ]
  },
  {
   "cell_type": "markdown",
   "metadata": {},
   "source": [
    "### Make Predictions"
   ]
  },
  {
   "cell_type": "code",
   "execution_count": 58,
   "metadata": {},
   "outputs": [],
   "source": [
    "classification = model.predict(test_images)"
   ]
  },
  {
   "cell_type": "code",
   "execution_count": 59,
   "metadata": {},
   "outputs": [
    {
     "name": "stdout",
     "output_type": "stream",
     "text": [
      "[0.00084564 0.00104264 0.001512   0.0011607  0.00171254 0.26611266\n",
      " 0.00177958 0.22950155 0.0217539  0.47457883]\n"
     ]
    }
   ],
   "source": [
    "print(classification[0])"
   ]
  },
  {
   "cell_type": "code",
   "execution_count": 60,
   "metadata": {},
   "outputs": [
    {
     "name": "stdout",
     "output_type": "stream",
     "text": [
      "9\n"
     ]
    }
   ],
   "source": [
    "print(test_label[0])"
   ]
  },
  {
   "cell_type": "markdown",
   "metadata": {},
   "source": [
    "# Exercise 2\n",
    "\n",
    "Changing the values of the dense layer with 512 nuerons\n",
    "\n",
    "### Impact \n",
    "\n",
    "Training time = Increases\n",
    "Accuracy = Depends ! "
   ]
  },
  {
   "cell_type": "code",
   "execution_count": 64,
   "metadata": {},
   "outputs": [
    {
     "name": "stdout",
     "output_type": "stream",
     "text": [
      "Epoch 1/5\n",
      "60000/60000 [==============================] - 18s 298us/sample - loss: 0.4687\n",
      "Epoch 2/5\n",
      "60000/60000 [==============================] - 18s 294us/sample - loss: 0.3549\n",
      "Epoch 3/5\n",
      "60000/60000 [==============================] - 18s 294us/sample - loss: 0.3218\n",
      "Epoch 4/5\n",
      "60000/60000 [==============================] - 20s 327us/sample - loss: 0.2947\n",
      "Epoch 5/5\n",
      "60000/60000 [==============================] - 19s 320us/sample - loss: 0.2781\n",
      "10000/10000 [==============================] - 1s 86us/sample - loss: 0.3546\n",
      "[3.9308919e-08 3.3270560e-08 5.5537726e-09 4.3134413e-10 8.8290300e-09\n",
      " 7.8010053e-04 1.0944243e-06 7.9987757e-03 1.7169724e-07 9.9121982e-01]\n",
      "9\n"
     ]
    }
   ],
   "source": [
    "model = tf.keras.models.Sequential([tf.keras.layers.Flatten(),\n",
    "                                    tf.keras.layers.Dense(1024, activation=tf.nn.relu),\n",
    "                                    tf.keras.layers.Dense(10, activation=tf.nn.softmax)])\n",
    "\n",
    "model.compile(optimizer = 'adam',\n",
    "              loss = 'sparse_categorical_crossentropy')\n",
    "\n",
    "model.fit(train_images, train_label, epochs=5)\n",
    "\n",
    "model.evaluate(test_images, test_label)\n",
    "\n",
    "classifications = model.predict(test_images)\n",
    "\n",
    "print(classifications[0])\n",
    "print(test_label[0])\n"
   ]
  },
  {
   "cell_type": "markdown",
   "metadata": {},
   "source": [
    "# Rule of Thumb\n",
    "\n",
    "### Flatten Layer\n",
    "\n",
    "it reinforces the rule of thumb that the first layer in your network should be the same shape as your data. Right now our data is 28x28 images, and 28 layers of 28 neurons would be infeasible, so it makes more sense to 'flatten' that 28,28 into a 784x1. \n",
    "\n",
    "### Output Layer\n",
    "\n",
    "the number of neurons in the last layer should match the number of classes you are classifying for."
   ]
  },
  {
   "cell_type": "markdown",
   "metadata": {},
   "source": [
    "# Exercise 5\n",
    "\n",
    "### Adding one more hidden layer\n",
    "\n",
    "There isn't a significant impact -- because this is relatively simple data. However, extra layers are more significant for more complex data."
   ]
  },
  {
   "cell_type": "code",
   "execution_count": 66,
   "metadata": {},
   "outputs": [
    {
     "name": "stdout",
     "output_type": "stream",
     "text": [
      "Epoch 1/5\n",
      "60000/60000 [==============================] - 12s 206us/sample - loss: 0.4669\n",
      "Epoch 2/5\n",
      "60000/60000 [==============================] - 13s 217us/sample - loss: 0.3555\n",
      "Epoch 3/5\n",
      "60000/60000 [==============================] - 12s 193us/sample - loss: 0.3194\n",
      "Epoch 4/5\n",
      "60000/60000 [==============================] - 12s 197us/sample - loss: 0.2985\n",
      "Epoch 5/5\n",
      "60000/60000 [==============================] - 11s 189us/sample - loss: 0.2775\n",
      "10000/10000 [==============================] - 1s 62us/sample - loss: 0.3387\n",
      "[1.9449098e-07 1.3945192e-06 3.2363252e-09 1.4595305e-07 2.7539370e-08\n",
      " 3.2671707e-04 1.6833459e-07 1.3693191e-02 8.9522644e-08 9.8597801e-01]\n",
      "9\n"
     ]
    }
   ],
   "source": [
    "model = tf.keras.models.Sequential([tf.keras.layers.Flatten(),\n",
    "                                    tf.keras.layers.Dense(512, activation=tf.nn.relu),\n",
    "                                    tf.keras.layers.Dense(256, activation=tf.nn.relu),\n",
    "                                    tf.keras.layers.Dense(10, activation=tf.nn.softmax)])\n",
    "\n",
    "model.compile(optimizer = 'adam',\n",
    "              loss = 'sparse_categorical_crossentropy')\n",
    "\n",
    "model.fit(train_images, train_label, epochs=5)\n",
    "\n",
    "model.evaluate(test_images, test_label)\n",
    "\n",
    "classifications = model.predict(test_images)\n",
    "\n",
    "print(classifications[0])\n",
    "print(test_label[0])"
   ]
  },
  {
   "cell_type": "markdown",
   "metadata": {},
   "source": [
    "# Effect of Epochs\n",
    "\n",
    "More epochs not necessarily mean that, the model is learning. It can result in overfitting.\n",
    "There is no point in increasing the number of epochs/training when the loss is actually not decreasing."
   ]
  },
  {
   "cell_type": "markdown",
   "metadata": {},
   "source": [
    "# Callback Function"
   ]
  },
  {
   "cell_type": "code",
   "execution_count": null,
   "metadata": {},
   "outputs": [],
   "source": [
    "class myCallback(tf.keras.callbacks.Callback):\n",
    "    def on_epoch_end()"
   ]
  }
 ],
 "metadata": {
  "kernelspec": {
   "display_name": "Python 3",
   "language": "python",
   "name": "python3"
  },
  "language_info": {
   "codemirror_mode": {
    "name": "ipython",
    "version": 3
   },
   "file_extension": ".py",
   "mimetype": "text/x-python",
   "name": "python",
   "nbconvert_exporter": "python",
   "pygments_lexer": "ipython3",
   "version": "3.5.2"
  }
 },
 "nbformat": 4,
 "nbformat_minor": 2
}
